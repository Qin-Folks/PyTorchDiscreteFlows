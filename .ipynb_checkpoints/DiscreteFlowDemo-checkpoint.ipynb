{
 "cells": [
  {
   "cell_type": "markdown",
   "metadata": {},
   "source": [
    "Parts of this notebook are taken from Andre Karpathy: https://github.com/karpathy/pytorch-normalizing-flows/blob/master/nflib1.ipynb\n",
    "and have been modified. "
   ]
  },
  {
   "cell_type": "code",
   "execution_count": 5,
   "metadata": {},
   "outputs": [],
   "source": [
    "import numpy as np\n",
    "import matplotlib.pyplot as plt\n",
    "from scipy.stats import multivariate_normal\n",
    "import torch\n",
    "import itertools"
   ]
  },
  {
   "cell_type": "code",
   "execution_count": 6,
   "metadata": {},
   "outputs": [
    {
     "name": "stdout",
     "output_type": "stream",
     "text": [
      "MADE.py           TorchDiscCode.py  disc_utils.py     nets.py\n",
      "TFBipartite.py    \u001b[1m\u001b[36m__pycache__\u001b[m\u001b[m/      flows.py          spline_flows.py\n"
     ]
    }
   ],
   "source": [
    "ls"
   ]
  },
  {
   "cell_type": "code",
   "execution_count": 10,
   "metadata": {},
   "outputs": [
    {
     "ename": "FileNotFoundError",
     "evalue": "[Errno 2] No such file or directory: 'nflib'",
     "output_type": "error",
     "traceback": [
      "\u001b[0;31m---------------------------------------------------------------------------\u001b[0m",
      "\u001b[0;31mFileNotFoundError\u001b[0m                         Traceback (most recent call last)",
      "\u001b[0;32m<ipython-input-10-0d2f7f22202b>\u001b[0m in \u001b[0;36m<module>\u001b[0;34m\u001b[0m\n\u001b[1;32m      1\u001b[0m \u001b[0;32mimport\u001b[0m \u001b[0mos\u001b[0m\u001b[0;34m\u001b[0m\u001b[0;34m\u001b[0m\u001b[0m\n\u001b[0;32m----> 2\u001b[0;31m \u001b[0mos\u001b[0m\u001b[0;34m.\u001b[0m\u001b[0mchdir\u001b[0m\u001b[0;34m(\u001b[0m\u001b[0;34m'nflib'\u001b[0m\u001b[0;34m)\u001b[0m\u001b[0;34m\u001b[0m\u001b[0;34m\u001b[0m\u001b[0m\n\u001b[0m",
      "\u001b[0;31mFileNotFoundError\u001b[0m: [Errno 2] No such file or directory: 'nflib'"
     ]
    }
   ],
   "source": [
    "import os\n",
    "os.chdir('nflib')"
   ]
  },
  {
   "cell_type": "code",
   "execution_count": 11,
   "metadata": {},
   "outputs": [],
   "source": [
    "# importing all of the normalizing flows. \n",
    "import disc_utils\n",
    "from MADE import *\n",
    "from nets import MLP\n",
    "from TorchDiscCode import *"
   ]
  },
  {
   "cell_type": "code",
   "execution_count": 12,
   "metadata": {},
   "outputs": [],
   "source": [
    "# will autoupdate any of the packages imported:\n",
    "%load_ext autoreload\n",
    "%autoreload 2"
   ]
  },
  {
   "cell_type": "markdown",
   "metadata": {},
   "source": [
    "## Generating the training data. A 2D Gaussian. \n",
    "Storing the data as variable \"data\" which will then be sampled from. "
   ]
  },
  {
   "cell_type": "code",
   "execution_count": 13,
   "metadata": {},
   "outputs": [
    {
     "data": {
      "image/png": "[encoded data removed]",
      "text/plain": [
       "<Figure size 432x288 with 1 Axes>"
      ]
     },
     "metadata": {
      "needs_background": "light"
     },
     "output_type": "display_data"
    }
   ],
   "source": [
    "n_samps = 1000\n",
    "mean = np.array([5,7] ) \n",
    "data = np.zeros((len(mean)*n_samps,2))\n",
    "samps = multivariate_normal(mean, np.eye(2)*2).rvs(n_samps)\n",
    "data = samps\n",
    "plt.scatter(samps[:,0], samps[:,1])\n",
    "plt.show()"
   ]
  },
  {
   "cell_type": "markdown",
   "metadata": {},
   "source": [
    "## Converting data into onehot vectors\n",
    "Need to define the vocabulary size to do this. "
   ]
  },
  {
   "cell_type": "code",
   "execution_count": 14,
   "metadata": {},
   "outputs": [],
   "source": [
    "def one_hotter(x, depth):\n",
    "    idd = np.eye(depth)\n",
    "    #print(idd[0])\n",
    "    res = np.zeros((x.shape[0], x.shape[1], depth))\n",
    "    #print(res.shape)\n",
    "    for ind in range(len(x)): \n",
    "        for j, val in enumerate(x[ind]):\n",
    "            if int(val) >= depth:\n",
    "                val = depth-1\n",
    "                #print(val)\n",
    "            res[ind, j, :] = idd[int(val)]\n",
    "            \n",
    "    return res    \n",
    "\n",
    "batch_size, sequence_length, vocab_size = 128, 2, 30\n",
    "\n",
    "oh = one_hotter(data, vocab_size)"
   ]
  },
  {
   "cell_type": "markdown",
   "metadata": {},
   "source": [
    "## Generating an example onehot sample of the data:"
   ]
  },
  {
   "cell_type": "code",
   "execution_count": 15,
   "metadata": {},
   "outputs": [
    {
     "data": {
      "text/plain": [
       "<matplotlib.collections.PathCollection at 0x1a25a39d10>"
      ]
     },
     "execution_count": 15,
     "metadata": {},
     "output_type": "execute_result"
    },
    {
     "data": {
      "image/png": "[encoded data removed]",
      "text/plain": [
       "<Figure size 360x360 with 1 Axes>"
      ]
     },
     "metadata": {
      "needs_background": "light"
     },
     "output_type": "display_data"
    }
   ],
   "source": [
    "def oh_sample(batch_size):\n",
    "    rand = np.random.choice(np.arange(len(oh)), batch_size)\n",
    "    return oh[rand,:]\n",
    "\n",
    "samps = oh_sample(10000).argmax(-1)\n",
    "plt.figure(figsize=(5,5))\n",
    "plt.scatter(samps[:,0], samps[:,1])"
   ]
  },
  {
   "cell_type": "markdown",
   "metadata": {},
   "source": [
    "## Generating the model"
   ]
  },
  {
   "cell_type": "code",
   "execution_count": 16,
   "metadata": {},
   "outputs": [],
   "source": [
    "num_flows = 6 # number of flow steps. This is different to the number of layers used inside each flow\n",
    "nh = 32 # number of hidden units per layer\n",
    "vector_length = sequence_length*vocab_size \n",
    "temperature = 0.1 # used for the straight-through gradient estimator. Value taken from the paper\n",
    "disc_layer_type = 'bipartite' #'autoreg'\n",
    "flows = []"
   ]
  },
  {
   "cell_type": "code",
   "execution_count": 17,
   "metadata": {},
   "outputs": [],
   "source": [
    "for i in range(num_flows):\n",
    "    if disc_layer_type == 'autoreg':\n",
    "        layer = MADE(vocab_size, [nh, nh, nh], vocab_size, \n",
    "                     num_masks=1, natural_ordering=True)\n",
    "        # if want to also learn the scale: \n",
    "        # put MADE(vocab_size, [nh, nh, nh], 2*vocab_size, num_masks=1, natural_ordering=True)\n",
    "        \n",
    "        # if natural ordering is false then this only works for up to 4 layers!!!!\n",
    "        # TODO: fix this bug. \n",
    "        \n",
    "        disc_layer = DiscreteAutoregressiveFlow( layer, temperature, vocab_size )\n",
    "    \n",
    "    elif disc_layer_type == 'bipartite':\n",
    "        layer = MLP(vector_length//2, vector_length//2, nh)\n",
    "        # to get the scale also, set MLP(vector_length//2, vector_length, nh)\n",
    "        # MLP defaults to the following architecture for each individual flow: \n",
    "        '''\n",
    "        self.net = nn.Sequential(\n",
    "            nn.Linear(nin, nh),\n",
    "            nn.LeakyReLU(0.2),\n",
    "            nn.Linear(nh, nh),\n",
    "            nn.LeakyReLU(0.2),\n",
    "            nn.Linear(nh, nh),\n",
    "            nn.LeakyReLU(0.2),\n",
    "            nn.Linear(nh, nout),\n",
    "        )\n",
    "        '''\n",
    "        \n",
    "        disc_layer = DiscreteBipartiteFlow(layer, i%2, temperature, vocab_size, vector_length)\n",
    "        # i%2 flips the parity of the masking. It splits the vector in half and alternates\n",
    "        # each flow between changing the first half or the second. \n",
    "    flows.append(disc_layer)\n",
    "    \n",
    "model = DiscreteAutoFlowModel(flows)"
   ]
  },
  {
   "cell_type": "markdown",
   "metadata": {},
   "source": [
    "## Generate the base distribution/prior. \n",
    "This learns a factorized distribution but deliberately shifts it to make learning meaningful for this single 2D Gaussian. "
   ]
  },
  {
   "cell_type": "code",
   "execution_count": 18,
   "metadata": {},
   "outputs": [
    {
     "data": {
      "image/png": "[encoded data removed]",
      "text/plain": [
       "<Figure size 432x288 with 1 Axes>"
      ]
     },
     "metadata": {
      "needs_background": "light"
     },
     "output_type": "display_data"
    }
   ],
   "source": [
    "n_samps = 10000\n",
    "data_samps = oh_sample(n_samps).argmax(-1) \n",
    "mod_data_samps = data_samps+15\n",
    "plt.scatter(data_samps[:,0], data_samps[:,1], label = 'original data')\n",
    "plt.scatter(mod_data_samps[:,0], mod_data_samps[:,1], label = 'shifted data')\n",
    "plt.legend()\n",
    "plt.show()"
   ]
  },
  {
   "cell_type": "markdown",
   "metadata": {},
   "source": [
    "## Converting into a proper probability distribution"
   ]
  },
  {
   "cell_type": "code",
   "execution_count": 19,
   "metadata": {},
   "outputs": [
    {
     "data": {
      "image/png": "[encoded data removed]",
      "text/plain": [
       "<Figure size 432x288 with 1 Axes>"
      ]
     },
     "metadata": {
      "needs_background": "light"
     },
     "output_type": "display_data"
    }
   ],
   "source": [
    "import collections\n",
    "import pandas as pd\n",
    "mod_data_dim0 = collections.Counter(mod_data_samps[:,0])\n",
    "mod_data_dim1 = collections.Counter(mod_data_samps[:,1])\n",
    "dim0_probs = np.zeros((vocab_size))\n",
    "dim1_probs = np.zeros((vocab_size))\n",
    "for k, v in mod_data_dim0.items():\n",
    "    dim0_probs[k] = v/n_samps\n",
    "for k, v in mod_data_dim1.items():\n",
    "    dim1_probs[k] = (v/n_samps)\n",
    "\n",
    "dim0_probs += 0.000001\n",
    "dim1_probs += 0.000001\n",
    "\n",
    "# need to renormalize again... \n",
    "dim0_probs = dim0_probs / np.sum(dim0_probs)\n",
    "dim1_probs = dim1_probs / np.sum(dim1_probs)\n",
    "\n",
    "mod_data_probs = np.vstack([dim0_probs, dim1_probs])\n",
    "\n",
    "base = torch.distributions.OneHotCategorical(probs = torch.tensor(mod_data_probs).float() )\n",
    "samps = base.sample((10000,)).argmax(-1)\n",
    "plt.scatter(samps[:,0], samps[:,1], label = 'shifted data')\n",
    "plt.show()"
   ]
  },
  {
   "cell_type": "code",
   "execution_count": 20,
   "metadata": {},
   "outputs": [
    {
     "name": "stdout",
     "output_type": "stream",
     "text": [
      "epoch: 0 loss: 18.03376579284668\n",
      "epoch: 5 loss: 13.569597244262695\n",
      "epoch: 10 loss: 10.478050231933594\n",
      "epoch: 15 loss: 8.829777717590332\n",
      "epoch: 20 loss: 7.450409412384033\n",
      "epoch: 25 loss: 7.360785484313965\n",
      "epoch: 30 loss: 8.150025367736816\n",
      "epoch: 35 loss: 8.262167930603027\n",
      "epoch: 40 loss: 7.997664451599121\n",
      "epoch: 45 loss: 8.27084732055664\n",
      "epoch: 50 loss: 6.478342056274414\n",
      "epoch: 55 loss: 6.320211410522461\n",
      "epoch: 60 loss: 6.572412014007568\n",
      "epoch: 65 loss: 6.900904655456543\n",
      "epoch: 70 loss: 5.470546245574951\n",
      "epoch: 75 loss: 5.172244071960449\n",
      "epoch: 80 loss: 5.662758827209473\n",
      "epoch: 85 loss: 4.814170837402344\n",
      "epoch: 90 loss: 5.247650623321533\n",
      "epoch: 95 loss: 5.018899917602539\n",
      "epoch: 100 loss: 5.015667915344238\n",
      "epoch: 105 loss: 4.924891471862793\n",
      "epoch: 110 loss: 4.647185325622559\n",
      "epoch: 115 loss: 4.635611057281494\n",
      "epoch: 120 loss: 5.019500255584717\n",
      "epoch: 125 loss: 4.9565653800964355\n",
      "epoch: 130 loss: 5.263803005218506\n",
      "epoch: 135 loss: 5.182050704956055\n",
      "epoch: 140 loss: 4.654687881469727\n",
      "epoch: 145 loss: 5.13383150100708\n",
      "epoch: 150 loss: 4.412438869476318\n",
      "epoch: 155 loss: 4.535488605499268\n",
      "epoch: 160 loss: 5.381641864776611\n",
      "epoch: 165 loss: 4.869878768920898\n",
      "epoch: 170 loss: 4.641644477844238\n",
      "epoch: 175 loss: 4.677909851074219\n",
      "epoch: 180 loss: 5.042392253875732\n",
      "epoch: 185 loss: 5.278046607971191\n",
      "epoch: 190 loss: 5.199769496917725\n",
      "epoch: 195 loss: 4.611202239990234\n",
      "epoch: 200 loss: 4.689206123352051\n",
      "epoch: 205 loss: 4.712122440338135\n",
      "epoch: 210 loss: 4.549533843994141\n",
      "epoch: 215 loss: 4.961971759796143\n",
      "epoch: 220 loss: 4.902900695800781\n",
      "epoch: 225 loss: 4.760205268859863\n",
      "epoch: 230 loss: 5.015953063964844\n",
      "epoch: 235 loss: 5.182499408721924\n",
      "epoch: 240 loss: 4.827086448669434\n",
      "epoch: 245 loss: 5.084141731262207\n",
      "epoch: 250 loss: 4.8237409591674805\n",
      "epoch: 255 loss: 5.331092834472656\n",
      "epoch: 260 loss: 4.85349702835083\n",
      "epoch: 265 loss: 4.649226188659668\n",
      "epoch: 270 loss: 4.842144012451172\n",
      "epoch: 275 loss: 5.364736557006836\n",
      "epoch: 280 loss: 5.1338396072387695\n",
      "epoch: 285 loss: 5.122239112854004\n",
      "epoch: 290 loss: 5.174588680267334\n",
      "epoch: 295 loss: 5.1822075843811035\n",
      "epoch: 300 loss: 4.914667129516602\n",
      "epoch: 305 loss: 4.939803600311279\n",
      "epoch: 310 loss: 5.035655975341797\n",
      "epoch: 315 loss: 4.9620184898376465\n",
      "epoch: 320 loss: 4.984070301055908\n",
      "epoch: 325 loss: 4.846418380737305\n",
      "epoch: 330 loss: 4.957935810089111\n",
      "epoch: 335 loss: 4.751424312591553\n",
      "epoch: 340 loss: 4.8936004638671875\n",
      "epoch: 345 loss: 5.19586181640625\n",
      "epoch: 350 loss: 5.31854248046875\n",
      "epoch: 355 loss: 4.767879962921143\n",
      "epoch: 360 loss: 4.63269567489624\n",
      "epoch: 365 loss: 4.849830627441406\n",
      "epoch: 370 loss: 5.317174434661865\n",
      "epoch: 375 loss: 5.099725723266602\n",
      "epoch: 380 loss: 4.858481407165527\n",
      "epoch: 385 loss: 4.9694719314575195\n",
      "epoch: 390 loss: 4.9180216789245605\n",
      "epoch: 395 loss: 4.850795269012451\n",
      "epoch: 400 loss: 5.068012237548828\n",
      "epoch: 405 loss: 5.105918884277344\n",
      "epoch: 410 loss: 5.056951522827148\n",
      "epoch: 415 loss: 4.673673629760742\n",
      "epoch: 420 loss: 4.789684295654297\n",
      "epoch: 425 loss: 4.872358798980713\n",
      "epoch: 430 loss: 4.936800956726074\n",
      "epoch: 435 loss: 5.045478820800781\n",
      "epoch: 440 loss: 4.918243408203125\n",
      "epoch: 445 loss: 4.63747501373291\n",
      "epoch: 450 loss: 4.921869277954102\n",
      "epoch: 455 loss: 5.027900695800781\n",
      "epoch: 460 loss: 5.022680282592773\n",
      "epoch: 465 loss: 4.542116641998291\n",
      "epoch: 470 loss: 5.378837585449219\n",
      "epoch: 475 loss: 4.875186920166016\n",
      "epoch: 480 loss: 4.551043510437012\n",
      "epoch: 485 loss: 5.354821681976318\n",
      "epoch: 490 loss: 5.198875427246094\n",
      "epoch: 495 loss: 5.521386623382568\n",
      "epoch: 500 loss: 4.643190383911133\n",
      "epoch: 505 loss: 4.933693885803223\n",
      "epoch: 510 loss: 5.0435051918029785\n",
      "epoch: 515 loss: 5.185610771179199\n",
      "epoch: 520 loss: 5.077078342437744\n",
      "epoch: 525 loss: 4.69718599319458\n",
      "epoch: 530 loss: 4.668663501739502\n",
      "epoch: 535 loss: 5.400712013244629\n",
      "epoch: 540 loss: 4.974701404571533\n",
      "epoch: 545 loss: 4.752599239349365\n",
      "epoch: 550 loss: 5.100980281829834\n",
      "epoch: 555 loss: 5.333649158477783\n",
      "epoch: 560 loss: 4.982560157775879\n",
      "epoch: 565 loss: 5.414036750793457\n",
      "epoch: 570 loss: 4.922671794891357\n",
      "epoch: 575 loss: 4.87033748626709\n",
      "epoch: 580 loss: 5.0315375328063965\n",
      "epoch: 585 loss: 4.876455307006836\n",
      "epoch: 590 loss: 4.81485652923584\n",
      "epoch: 595 loss: 5.2006449699401855\n",
      "epoch: 600 loss: 4.964626312255859\n",
      "epoch: 605 loss: 4.917929649353027\n",
      "epoch: 610 loss: 5.037980079650879\n",
      "epoch: 615 loss: 5.092852592468262\n",
      "epoch: 620 loss: 5.09520149230957\n",
      "epoch: 625 loss: 5.227327346801758\n",
      "epoch: 630 loss: 5.093951225280762\n",
      "epoch: 635 loss: 4.768736839294434\n",
      "epoch: 640 loss: 5.0264763832092285\n",
      "epoch: 645 loss: 4.936561584472656\n",
      "epoch: 650 loss: 4.858366012573242\n",
      "epoch: 655 loss: 4.503424167633057\n",
      "epoch: 660 loss: 4.907229900360107\n",
      "epoch: 665 loss: 4.688290596008301\n",
      "epoch: 670 loss: 4.999728202819824\n",
      "epoch: 675 loss: 4.890960693359375\n",
      "epoch: 680 loss: 5.02639102935791\n",
      "epoch: 685 loss: 4.813455104827881\n",
      "epoch: 690 loss: 4.841676235198975\n",
      "epoch: 695 loss: 5.1801300048828125\n",
      "epoch: 700 loss: 5.130290985107422\n",
      "epoch: 705 loss: 5.2197160720825195\n",
      "epoch: 710 loss: 4.638949394226074\n",
      "epoch: 715 loss: 4.808551788330078\n",
      "epoch: 720 loss: 4.757561206817627\n",
      "epoch: 725 loss: 4.913961887359619\n",
      "epoch: 730 loss: 4.977719306945801\n",
      "epoch: 735 loss: 4.66029691696167\n",
      "epoch: 740 loss: 4.6578688621521\n",
      "epoch: 745 loss: 5.354217529296875\n",
      "epoch: 750 loss: 4.914061546325684\n",
      "epoch: 755 loss: 4.853724956512451\n",
      "epoch: 760 loss: 5.276031970977783\n",
      "epoch: 765 loss: 4.626261234283447\n",
      "epoch: 770 loss: 5.028539657592773\n",
      "epoch: 775 loss: 4.950363636016846\n",
      "epoch: 780 loss: 5.034631729125977\n",
      "epoch: 785 loss: 5.217317581176758\n",
      "epoch: 790 loss: 4.77864408493042\n",
      "epoch: 795 loss: 4.724078178405762\n"
     ]
    },
    {
     "data": {
      "text/plain": [
       "[<matplotlib.lines.Line2D at 0x1a2800cf90>]"
      ]
     },
     "execution_count": 20,
     "metadata": {},
     "output_type": "execute_result"
    },
    {
     "data": {
      "image/png": "[encoded data removed]",
      "text/plain": [
       "<Figure size 432x288 with 1 Axes>"
      ]
     },
     "metadata": {
      "needs_background": "light"
     },
     "output_type": "display_data"
    }
   ],
   "source": [
    "epochs = 500\n",
    "learning_rate = 0.0001\n",
    "print_loss_every = 20\n",
    "optimizer = torch.optim.Adam(model.parameters(), lr=learning_rate)\n",
    "losses = []\n",
    "weights = []\n",
    "base_log_probs = torch.log(base.probs)\n",
    "model.train()\n",
    "for e in range(epochs):\n",
    "    x = torch.tensor(oh_sample(batch_size)).float()\n",
    "    \n",
    "    if disc_layer_type == 'bipartite':\n",
    "        x= x.view(x.shape[0], -1) #flattening vector\n",
    "    \n",
    "    optimizer.zero_grad()\n",
    "    zs = model.forward(x)\n",
    "    \n",
    "    if disc_layer_type == 'bipartite':\n",
    "        zs = zs.view(batch_size, 2, -1) # flattening vector\n",
    "    \n",
    "    logprob = zs*base_log_probs.float()\n",
    "    loss = -torch.sum(logprob)/batch_size\n",
    "    \n",
    "    loss.backward()\n",
    "    optimizer.step()\n",
    "    \n",
    "    losses.append(loss.detach())\n",
    "    \n",
    "    if e%print_loss_every==0:\n",
    "        print('epoch:', e, 'loss:', loss.item())\n",
    "\n",
    "plt.plot(losses)"
   ]
  },
  {
   "cell_type": "markdown",
   "metadata": {},
   "source": [
    "## Analyze model performance"
   ]
  },
  {
   "cell_type": "code",
   "execution_count": 21,
   "metadata": {},
   "outputs": [
    {
     "data": {
      "text/plain": [
       "(0, 30)"
      ]
     },
     "execution_count": 21,
     "metadata": {},
     "output_type": "execute_result"
    },
    {
     "data": {
      "image/png": "[encoded data removed]",
      "text/plain": [
       "<Figure size 720x360 with 2 Axes>"
      ]
     },
     "metadata": {
      "needs_background": "light"
     },
     "output_type": "display_data"
    }
   ],
   "source": [
    "model.eval()\n",
    "x = torch.tensor(oh_sample(batch_size)).float()\n",
    "if disc_layer_type == 'bipartite':\n",
    "    x = x.view(batch_size, -1)\n",
    "zs = model.forward(x)\n",
    "z = zs\n",
    "if disc_layer_type == 'bipartite':\n",
    "    z = z.view(batch_size, 2, -1)\n",
    "    x = x.view(batch_size, 2, -1)\n",
    "\n",
    "x = x.detach().numpy().argmax(-1)\n",
    "z = z.detach().numpy().argmax(-1)\n",
    "p = base.sample((batch_size,)).argmax(-1)\n",
    "plt.figure(figsize=(10,5))\n",
    "plt.subplot(121)\n",
    "plt.scatter(p[:,0], p[:,1], c='g', s=5)\n",
    "plt.scatter(z[:,0], z[:,1], c='r', s=5)\n",
    "plt.scatter(x[:,0], x[:,1], c='b', s=5)\n",
    "plt.legend(['prior', 'x->z', 'data'])\n",
    "plt.axis('scaled')\n",
    "plt.title('x -> z')\n",
    "plt.xlim([0,vocab_size])\n",
    "plt.ylim([0,vocab_size])\n",
    "\n",
    "if disc_layer_type == 'bipartite':\n",
    "    z = model.reverse(base.sample((batch_size,)).float().view(batch_size, -1))\n",
    "    z = z.view(batch_size, 2, -1)\n",
    "else: \n",
    "    z = model.reverse(base.sample((batch_size,)).float())\n",
    "z = z.detach().numpy().argmax(-1)\n",
    "plt.subplot(122)\n",
    "plt.scatter(x[:,0], x[:,1], c='b', s=5, alpha=0.5)\n",
    "plt.scatter(z[:,0], z[:,1], c='r', s=5, alpha=0.3)\n",
    "plt.legend(['data', 'z->x'])\n",
    "plt.axis('scaled')\n",
    "plt.title('z -> x')\n",
    "plt.xlim([0,vocab_size])\n",
    "plt.ylim([0,vocab_size])"
   ]
  },
  {
   "cell_type": "code",
   "execution_count": null,
   "metadata": {},
   "outputs": [],
   "source": []
  }
 ],
 "metadata": {
  "kernelspec": {
   "display_name": "Python 3",
   "language": "python",
   "name": "python3"
  },
  "language_info": {
   "codemirror_mode": {
    "name": "ipython",
    "version": 3
   },
   "file_extension": ".py",
   "mimetype": "text/x-python",
   "name": "python",
   "nbconvert_exporter": "python",
   "pygments_lexer": "ipython3",
   "version": "3.7.5"
  }
 },
 "nbformat": 4,
 "nbformat_minor": 4
}
